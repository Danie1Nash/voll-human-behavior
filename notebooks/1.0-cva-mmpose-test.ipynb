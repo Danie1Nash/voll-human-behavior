{
 "cells": [
  {
   "cell_type": "code",
   "execution_count": null,
   "metadata": {},
   "outputs": [],
   "source": [
    "# Check Pytorch installation\n",
    "import torch, torchvision\n",
    "\n",
    "print('torch version:', torch.__version__, torch.cuda.is_available())\n",
    "print('torchvision version:', torchvision.__version__)"
   ]
  },
  {
   "cell_type": "code",
   "execution_count": null,
   "metadata": {},
   "outputs": [],
   "source": [
    "# Check MMPose installation\n",
    "import mmpose\n",
    "\n",
    "print('mmpose version:', mmpose.__version__)\n",
    "\n",
    "# Check mmcv installation\n",
    "from mmcv.ops import get_compiling_cuda_version, get_compiler_version\n",
    "\n",
    "print('cuda version:', get_compiling_cuda_version())\n",
    "print('compiler information:', get_compiler_version())"
   ]
  },
  {
   "cell_type": "code",
   "execution_count": null,
   "metadata": {},
   "outputs": [],
   "source": [
    "import cv2\n",
    "from mmpose.apis import (inference_top_down_pose_model, init_pose_model,\n",
    "                         vis_pose_result, process_mmdet_results)\n",
    "from mmdet.apis import inference_detector, init_detector\n",
    "\n",
    "local_runtime = False\n",
    "\n",
    "try:\n",
    "    from google.colab.patches import cv2_imshow  # for image visualization in colab\n",
    "except:\n",
    "    local_runtime = True\n",
    "\n",
    "pose_config = '../source/mmpose/configs/body/2d_kpt_sview_rgb_img/topdown_heatmap/coco/hrnet_w48_coco_256x192.py'\n",
    "pose_checkpoint = 'https://download.openmmlab.com/mmpose/top_down/hrnet/hrnet_w48_coco_256x192-b9e0b3ab_20200708.pth'\n",
    "det_config = '../source/mmpose/demo/mmdetection_cfg/faster_rcnn_r50_fpn_coco.py'\n",
    "det_checkpoint = 'https://download.openmmlab.com/mmdetection/v2.0/faster_rcnn/faster_rcnn_r50_fpn_1x_coco/faster_rcnn_r50_fpn_1x_coco_20200130-047c8118.pth'\n",
    "\n",
    "# initialize pose model\n",
    "pose_model = init_pose_model(pose_config, pose_checkpoint)\n",
    "# initialize detector\n",
    "det_model = init_detector(det_config, det_checkpoint)\n",
    "\n",
    "img = 'data/raw/videos/0/3596/3576.jpg'\n",
    "\n",
    "# inference detection\n",
    "mmdet_results = inference_detector(det_model, img)\n",
    "\n",
    "# extract person (COCO_ID=1) bounding boxes from the detection results\n",
    "person_results = process_mmdet_results(mmdet_results, cat_id=1)\n",
    "\n",
    "# inference pose\n",
    "pose_results, returned_outputs = inference_top_down_pose_model(\n",
    "    pose_model,\n",
    "    img,\n",
    "    person_results,\n",
    "    bbox_thr=0.3,\n",
    "    format='xyxy',\n",
    "    dataset=pose_model.cfg.data.test.type)\n",
    "\n",
    "# show pose estimation results\n",
    "vis_result = vis_pose_result(\n",
    "    pose_model,\n",
    "    img,\n",
    "    pose_results,\n",
    "    dataset=pose_model.cfg.data.test.type,\n",
    "    show=False)\n",
    "# reduce image size\n",
    "vis_result = cv2.resize(vis_result, dsize=None, fx=0.5, fy=0.5)\n",
    "\n",
    "if local_runtime:\n",
    "    from IPython.display import Image, display\n",
    "    import tempfile\n",
    "    import os.path as osp\n",
    "    with tempfile.TemporaryDirectory() as tmpdir:\n",
    "        file_name = osp.join(tmpdir, 'pose_results.png')\n",
    "        cv2.imwrite(file_name, vis_result)\n",
    "        display(Image(file_name))\n",
    "else:\n",
    "    cv2_imshow(vis_result)"
   ]
  }
 ],
 "metadata": {
  "kernelspec": {
   "display_name": "Python 3.8.13 ('posedet')",
   "language": "python",
   "name": "python3"
  },
  "language_info": {
   "codemirror_mode": {
    "name": "ipython",
    "version": 3
   },
   "file_extension": ".py",
   "mimetype": "text/x-python",
   "name": "python",
   "nbconvert_exporter": "python",
   "pygments_lexer": "ipython3",
   "version": "3.8.13"
  },
  "vscode": {
   "interpreter": {
    "hash": "be76c2709397d9eafcc9a33f3b53b00dab8cfa4aa815f4184d7daf7fc3f01ced"
   }
  }
 },
 "nbformat": 4,
 "nbformat_minor": 4
}
