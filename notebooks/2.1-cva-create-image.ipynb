{
 "cells": [
  {
   "cell_type": "markdown",
   "metadata": {},
   "source": [
    "Нумерация точек скелета\n",
    "\n",
    "![image info](../reports/figures/notebook/skeletal_numbering.png)"
   ]
  },
  {
   "cell_type": "code",
   "execution_count": null,
   "metadata": {},
   "outputs": [],
   "source": [
    "import os\n",
    "from collections import defaultdict\n",
    "import numpy as np\n",
    "from glob import glob\n",
    "from matplotlib import pyplot as plt\n",
    "from tqdm import tqdm\n",
    "import pandas as pd"
   ]
  },
  {
   "cell_type": "code",
   "execution_count": null,
   "metadata": {},
   "outputs": [],
   "source": [
    "import cv2"
   ]
  },
  {
   "cell_type": "code",
   "execution_count": null,
   "metadata": {},
   "outputs": [],
   "source": [
    "from IPython.display import Image, display\n",
    "import tempfile\n",
    "import os.path as osp\n",
    "import json"
   ]
  },
  {
   "cell_type": "code",
   "execution_count": null,
   "metadata": {},
   "outputs": [],
   "source": [
    "DISTANCE_MAP_SIZE = (60, 18)\n",
    "AXIS_NUMBER = 2\n",
    "WINDOW_SIZE = 3\n",
    "IMAGE_BORDER = 10\n",
    "POINT_NUMBER = 17\n",
    "# BONE_LIST = [[15, 13], [13, 11], [16, 14], [14, 12], [11, 12],\n",
    "#              [5, 11], [6, 12], [5, 6], [5, 7], [6, 8], [7, 9],\n",
    "#              [8, 10], [1, 2], [0, 1], [0, 2], [1, 3], [2, 4],\n",
    "#              [3, 5], [4, 6]]\n",
    "BONE_LIST = [[15, 13], [13, 11], [16, 14], [14, 12], [11, 12],\n",
    "             [5, 11], [6, 12], [5, 6], [5, 7], [6, 8], [7, 9],\n",
    "             [8, 10]]\n",
    "CENTER_BONE = [11, 12]\n",
    "COLOR_MAP = plt.get_cmap('YlGn')"
   ]
  },
  {
   "cell_type": "code",
   "execution_count": null,
   "metadata": {},
   "outputs": [],
   "source": [
    "csv_save_directory = \"/usr/data/datasets/kalman-data/personal_folder/cva/graduate-work/data/processed/2d/\""
   ]
  },
  {
   "cell_type": "code",
   "execution_count": null,
   "metadata": {},
   "outputs": [],
   "source": [
    "skeleton_save_directory = \"/usr/data/datasets/kalman-data/personal_folder/cva/graduate-work/data/processed/2d/skeleton\"\n",
    "distant_map_save_directory = \"/usr/data/datasets/kalman-data/personal_folder/cva/graduate-work/data/processed/2d/dist_map\""
   ]
  },
  {
   "cell_type": "code",
   "execution_count": null,
   "metadata": {},
   "outputs": [],
   "source": [
    "if not os.path.exists(save_directory):\n",
    "    os.makedirs(save_directory)"
   ]
  },
  {
   "cell_type": "code",
   "execution_count": null,
   "metadata": {},
   "outputs": [],
   "source": [
    "def sort_by_num(path):\n",
    "    name = path.split(\"/\")[-1]\n",
    "    num = int(name.split(\".\")[0])\n",
    "    return num"
   ]
  },
  {
   "cell_type": "code",
   "execution_count": null,
   "metadata": {},
   "outputs": [],
   "source": [
    "def norm_vals(x):\n",
    "    x = x-np.min(x)\n",
    "    x = x/np.max(x)\n",
    "    return x"
   ]
  },
  {
   "cell_type": "code",
   "execution_count": null,
   "metadata": {},
   "outputs": [],
   "source": [
    "def get_distant_map(data, left, right):\n",
    "    image = None\n",
    "    for i in range(left, right+1):\n",
    "        if data[i] is None:\n",
    "            continue\n",
    "        points = data[i][:,:AXIS_NUMBER]\n",
    "        center_point = (points[CENTER_BONE[0], :] + points[CENTER_BONE[1], :])/2;\n",
    "        points-=center_point\n",
    "        points = np.append(points, np.zeros((points.shape[0], 1)), axis=1)\n",
    "        if image is None:\n",
    "            image = np.atleast_3d(points)\n",
    "        else:\n",
    "            image = np.append(image, np.atleast_3d(points), axis=2)\n",
    "    if image is None:\n",
    "        return None\n",
    "    image = np.swapaxes(image, 1, 2)\n",
    "    for i in range(POINT_NUMBER):\n",
    "        for j in range(AXIS_NUMBER):\n",
    "            image[i,:,j] = norm_vals(image[i,:,j])\n",
    "    resize_image = cv2.resize(image*255, (POINT_NUMBER, WINDOW_SIZE*2+1), interpolation = cv2.INTER_AREA)\n",
    "    return(resize_image)"
   ]
  },
  {
   "cell_type": "code",
   "execution_count": null,
   "metadata": {},
   "outputs": [],
   "source": [
    "def plot_im_skeleton(skeleton, ax, color):       \n",
    "    x = skeleton[:, 0]\n",
    "    y = skeleton[:, 1]\n",
    "    for bone in BONE_LIST:\n",
    "        ax.plot([x[bone[0]], x[bone[1]]], [y[bone[0]], y[bone[1]]], color = color[:3])"
   ]
  },
  {
   "cell_type": "code",
   "execution_count": null,
   "metadata": {},
   "outputs": [],
   "source": [
    "save = None"
   ]
  },
  {
   "cell_type": "code",
   "execution_count": null,
   "metadata": {},
   "outputs": [],
   "source": [
    "def get_img(data, left, right):\n",
    "    fig, ax = plt.subplots(nrows=1,ncols=1,figsize=(3,3))\n",
    "    xmin, xmax = None, None\n",
    "    ymin, ymax = None, None\n",
    "    \n",
    "    colors = COLOR_MAP(np.linspace(0.0, 1, right-left+1))\n",
    "    \n",
    "    for i in range(left, right+1):\n",
    "        if data[i] is not None:\n",
    "            if xmin is None:\n",
    "                xmin, xmax = data[i][:, 0].min(), data[i][:, 0].max()\n",
    "                ymin, ymax = data[i][:, 1].min(), data[i][:, 1].max()\n",
    "            else:\n",
    "                xmin, xmax = min(xmin, data[i][:, 0].min()), max(xmax, data[i][:, 0].max())\n",
    "                ymin, ymax = min(ymin, data[i][:, 1].min()), max(ymax, data[i][:, 1].max())\n",
    "            plot_im_skeleton(data[i], ax, colors[i-left])\n",
    "\n",
    "    if xmin is None:\n",
    "        plt.close()\n",
    "        return None\n",
    "    \n",
    "    if xmax-xmin > ymax-ymin:\n",
    "        delta = ((xmax-xmin) - (ymax-ymin))/2\n",
    "        ymax += delta\n",
    "        ymin -= delta\n",
    "    else:\n",
    "        delta = ((ymax-ymin) - (xmax-xmin))/2\n",
    "        xmax += delta\n",
    "        xmin -= delta\n",
    "        \n",
    "    xmin -= IMAGE_BORDER\n",
    "    xmax += IMAGE_BORDER\n",
    "    ymin -= IMAGE_BORDER\n",
    "    ymax += IMAGE_BORDER\n",
    "    \n",
    "    plt.xlim([xmin, xmax])\n",
    "    plt.ylim([ymin, ymax])\n",
    "    plt.gca().invert_yaxis()\n",
    "    ax.set_axis_off()\n",
    "    plt.close()\n",
    "    return fig"
   ]
  },
  {
   "cell_type": "code",
   "execution_count": null,
   "metadata": {},
   "outputs": [],
   "source": [
    "datasets = [f.path for f in os.scandir(detection_result) if f.is_dir()]\n",
    "datasets = sorted(datasets, key = sort_by_num)"
   ]
  },
  {
   "cell_type": "code",
   "execution_count": null,
   "metadata": {},
   "outputs": [],
   "source": [
    "data_dict = {'dist_map_path':[], 'skeleton_img_path':[], 'motion':[]}\n",
    "\n",
    "for pdataset in datasets:\n",
    "    ndataset = pdataset.split(\"/\")[-1]\n",
    "    print(f\"INFO: dataset {ndataset}\")\n",
    "    \n",
    "    examples = [f.path for f in os.scandir(pdataset) if f.is_dir()]\n",
    "    for pexample in tqdm(examples):\n",
    "        nexample = int(pexample.split(\"/\")[-1])\n",
    "        persons_desc_path = glob(f\"{pexample}/*.json\")\n",
    "        for path in persons_desc_path:\n",
    "            person_id = path.split(\"/\")[-1].split(\".\")[0]\n",
    "            with open(path) as f:\n",
    "                data = json.load(f)\n",
    "            action = data[\"action\"]\n",
    "            poses = data[\"pose\"]\n",
    "            \n",
    "            for k, v in poses.items():\n",
    "                if v is not None:\n",
    "                    poses[k] = np.array(v)\n",
    "\n",
    "            poses = {int(k):v for k,v in poses.items()}\n",
    "            left = nexample - WINDOW_SIZE\n",
    "            right = nexample + WINDOW_SIZE\n",
    "            skeleton_img = get_img(poses, left, right)\n",
    "            distant_map = get_distant_map(poses, left, right)\n",
    "            \n",
    "            if skeleton_img is None or distant_map is None:\n",
    "                continue\n",
    "            \n",
    "            path_skeleton_img = f\"{skeleton_save_directory}/{ndataset}/{nexample}\"\n",
    "            path_distant_map = f\"{distant_map_save_directory}/{ndataset}/{nexample}\"\n",
    "            \n",
    "            if not os.path.exists(path_skeleton_img):\n",
    "                os.makedirs(path_skeleton_img)\n",
    "            if not os.path.exists(path_distant_map):\n",
    "                os.makedirs(path_distant_map)\n",
    "            \n",
    "            skeleton_img.savefig(f\"{path_skeleton_img}/{person_id}.png\")\n",
    "            cv2.imwrite(f\"{path_distant_map}/{person_id}.png\", distant_map)\n",
    "            \n",
    "            data_dict['dist_map_path'].append(f\"{path_distant_map}/{person_id}.png\")\n",
    "            data_dict['skeleton_img_path'].append(f\"{path_skeleton_img}/{person_id}.png\")\n",
    "            data_dict['motion'].append(action)\n",
    "    data_pd = pd.DataFrame.from_dict(data_dict)\n",
    "    data_pd.to_csv(os.path.join(csv_save_directory, 'all_data.csv'))"
   ]
  }
 ],
 "metadata": {
  "interpreter": {
   "hash": "be76c2709397d9eafcc9a33f3b53b00dab8cfa4aa815f4184d7daf7fc3f01ced"
  },
  "kernelspec": {
   "display_name": "posedet",
   "language": "python",
   "name": "posedet"
  },
  "language_info": {
   "codemirror_mode": {
    "name": "ipython",
    "version": 3
   },
   "file_extension": ".py",
   "mimetype": "text/x-python",
   "name": "python",
   "nbconvert_exporter": "python",
   "pygments_lexer": "ipython3",
   "version": "3.8.13"
  }
 },
 "nbformat": 4,
 "nbformat_minor": 4
}
